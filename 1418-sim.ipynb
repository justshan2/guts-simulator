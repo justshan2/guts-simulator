{
 "cells": [
  {
   "cell_type": "code",
   "execution_count": 1,
   "metadata": {},
   "outputs": [],
   "source": [
    "import random\n",
    "import numpy as np"
   ]
  },
  {
   "cell_type": "code",
   "execution_count": 11,
   "metadata": {},
   "outputs": [],
   "source": [
    "# game simulation class\n",
    "class Round():\n",
    "    def __init__(self):\n",
    "        self.p1_payoff = -1\n",
    "        self.p2_payoff = -1\n",
    "        self.pot = 2\n",
    "    \n",
    "    def check_conditions(self):\n",
    "        return self.p1_payoff + self.p2_payoff == -self.pot\n",
    "\n",
    "    def determine_winner(self):\n",
    "        if self.p1_draw > self.p2_draw: #p1 wins\n",
    "            self.p1_payoff += self.pot\n",
    "            self.p2_payoff -= self.pot\n",
    "        else: # p2 wins\n",
    "            self.p1_payoff -= self.pot\n",
    "            self.p2_payoff += self.pot\n",
    "        \n",
    "        # redistribute the pot (ASSUMPTION for stage game -- ante for next round is just paid back)\n",
    "        self.p1_payoff += self.pot/2\n",
    "        self.p2_payoff += self.pot/2\n",
    "        self.pot = 0\n",
    "\n",
    "        return (self.p1_payoff, self.p2_payoff)\n",
    "    \n",
    "    def simulate(self, x=1/2): \n",
    "        #initial draw\n",
    "        self.p1_draw = random.uniform(0, 1)\n",
    "        self.p2_draw = random.uniform(0, 1)\n",
    "\n",
    "        p1_ante = 0\n",
    "        p2_ante = 0\n",
    "        #p1 conditional redraw to force median = 2/3\n",
    "        if self.p1_draw <= 1/2 or self.p1_draw >= 5/6:\n",
    "            self.p1_draw = max(random.uniform(0, 1), self.p1_draw)\n",
    "            p1_ante = self.pot/2\n",
    "            self.p1_payoff -= p1_ante# half pot draw\n",
    "        \n",
    "        #p2 redraw condition\n",
    "        if self.p2_draw <= x or self.p2_draw >= 1-(x**2/(1+x)):\n",
    "            # print(f'x, y: {x, x**2/(1+x)}')\n",
    "            self.p2_draw = max(random.uniform(0, 1), self.p2_draw)\n",
    "            p2_ante = self.pot/2\n",
    "            self.p2_payoff -= p2_ante# half pot draw\n",
    "    \n",
    "        # update pot size\n",
    "        self.pot += p1_ante + p2_ante\n",
    "\n",
    "        # make sure pot is still right size\n",
    "        self.check_conditions()\n",
    "\n",
    "        # showdown conditions -- we play when our hand is above threshold\n",
    "        threshold = 2/3\n",
    "        return self.showdown(threshold)\n",
    "    \n",
    "    def showdown(self, threshold):\n",
    "        # case 1: both play\n",
    "        if self.p1_draw >= threshold and self.p2_draw >= threshold:\n",
    "            return self.determine_winner()\n",
    "        # case 2: only p1 plays\n",
    "        elif self.p1_draw >= threshold and self.p2_draw < threshold:\n",
    "            return (self.p1_payoff+self.pot, self.p2_payoff)\n",
    "        #case 3: only p2 plays\n",
    "        elif self.p1_draw < threshold and self.p2_draw >= threshold:\n",
    "            return (self.p1_payoff, self.p2_payoff+self.pot)\n",
    "        #case 4: neither play\n",
    "        else:\n",
    "            return self.showdown(threshold/2)"
   ]
  },
  {
   "cell_type": "code",
   "execution_count": 17,
   "metadata": {},
   "outputs": [
    {
     "name": "stdout",
     "output_type": "stream",
     "text": [
      "(p1 total, p2 total): (8.0, -8.0)\n"
     ]
    }
   ],
   "source": [
    "p1_total = 0\n",
    "p2_total = 0\n",
    "for i in range(100000):\n",
    "    curr_round = Round()\n",
    "    p1, p2 = curr_round.simulate()\n",
    "    p1_total += p1\n",
    "    p2_total += p2\n",
    "\n",
    "print(f'(p1 total, p2 total): {(p1_total, p2_total)}')"
   ]
  },
  {
   "cell_type": "code",
   "execution_count": 100,
   "metadata": {},
   "outputs": [
    {
     "name": "stdout",
     "output_type": "stream",
     "text": [
      "(p1 total, p2 total): ([8091.5, 5097.0, 2960.0, 1400.0, 115.5, 686.0, 4694.0, 5590.0, 4408.5, 4876.5], [-8091.5, -5097.0, -2960.0, -1400.0, -115.5, -686.0, -4694.0, -5590.0, -4408.5, -4876.5])\n",
      "[0.         0.11111111 0.22222222 0.33333333 0.44444444 0.55555556\n",
      " 0.66666667 0.77777778 0.88888889 1.        ]\n"
     ]
    }
   ],
   "source": [
    "#simulate on different x thresholds\n",
    "x_vals = np.linspace(0, 1, 10)\n",
    "p1_totals = [0 for i in range(len(x_vals))]\n",
    "p2_totals = [0 for i in range(len(x_vals))]\n",
    "\n",
    "for ind, x in enumerate(x_vals):\n",
    "    for i in range(100000):\n",
    "        curr_round = Round()\n",
    "        p1, p2 = curr_round.simulate(x)\n",
    "        p1_totals[ind] += p1\n",
    "        p2_totals[ind] += p2\n",
    "\n",
    "\n",
    "print(f'(p1 total, p2 total): {(p1_totals, p2_totals)}')\n",
    "print(x_vals)"
   ]
  }
 ],
 "metadata": {
  "kernelspec": {
   "display_name": "anaconda",
   "language": "python",
   "name": "anaconda"
  },
  "language_info": {
   "codemirror_mode": {
    "name": "ipython",
    "version": 3
   },
   "file_extension": ".py",
   "mimetype": "text/x-python",
   "name": "python",
   "nbconvert_exporter": "python",
   "pygments_lexer": "ipython3",
   "version": "3.9.7"
  }
 },
 "nbformat": 4,
 "nbformat_minor": 2
}
